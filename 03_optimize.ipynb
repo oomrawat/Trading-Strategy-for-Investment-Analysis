{
 "cells": [
  {
   "cell_type": "code",
   "execution_count": null,
   "metadata": {},
   "outputs": [],
   "source": [
    "import pandas as pd\n",
    "import numpy as np\n",
    "import xlwings as xw\n",
    "import openpyxl as xl\n",
    "from scipy.optimize import minimize\n",
    "import math\n",
    "import os"
   ]
  },
  {
   "cell_type": "code",
   "execution_count": null,
   "metadata": {},
   "outputs": [],
   "source": [
    "def excel_column_name(column_number):\n",
    "    column_name = \"\"\n",
    "    while column_number > 0:\n",
    "        remainder = (column_number - 1) % 26\n",
    "        column_name = chr(65 + remainder) + column_name\n",
    "        column_number = (column_number - 1) // 26\n",
    "    return column_name"
   ]
  },
  {
   "cell_type": "code",
   "execution_count": null,
   "metadata": {},
   "outputs": [],
   "source": [
    "def add_sheets(input_filename, optimization=None, max_sha_weights=None, min_var_weights=None, max_ret_weights=None, expected_ann_returns=None, maximum_ann_stdev=None):\n",
    "    \"\"\"\n",
    "    optimization can either be \"MAX SHA\" or \"MIN VAR\" or \"MAX RET\" or None\n",
    "    \"\"\"\n",
    "\n",
    "    file_path = input_filename\n",
    "    xl = pd.ExcelFile(file_path)\n",
    "\n",
    "    df_weekly_data = xl.parse(0)\n",
    "    df_weekly_returns = xl.parse(1)\n",
    "    df_cov_matrix = xl.parse(2)\n",
    "\n",
    "    df_weekly_returns_no_date = df_weekly_returns.iloc[:, 1:]\n",
    "\n",
    "    average_returns = df_weekly_returns_no_date.mean()\n",
    "    std_dev_returns = df_weekly_returns_no_date.std()\n",
    "\n",
    "    df_summary_stats = pd.DataFrame([average_returns, std_dev_returns], index=['Average', 'Std Dev'])\n",
    "\n",
    "    num_symbs = len(df_weekly_data.columns) - 1\n",
    "    data_rows = len(df_weekly_returns)\n",
    "\n",
    "    symbols = df_weekly_data.columns[1:].tolist()\n",
    "\n",
    "    if optimization == None:\n",
    "        df_max_sharpe_ratio = pd.DataFrame({'Symbol': symbols})\n",
    "        df_max_sharpe_ratio['Weights'] = max_sha_weights\n",
    "\n",
    "        df_min_variance = pd.DataFrame({'Symbol': symbols})\n",
    "        df_min_variance['Weights'] = min_var_weights\n",
    "\n",
    "        df_max_returns = pd.DataFrame({'Symbol': symbols})\n",
    "        df_max_returns['Weights'] = max_ret_weights\n",
    "    else:\n",
    "        df_max_sharpe_ratio = xl.parse(4)\n",
    "        df_min_variance = xl.parse(5)\n",
    "        df_max_returns = xl.parse(6)\n",
    "\n",
    "    output_file_path = 'updated_'+input_filename\n",
    "    \n",
    "    with pd.ExcelWriter(output_file_path, engine='xlsxwriter') as writer:\n",
    "\n",
    "        df_weekly_data.to_excel(writer, sheet_name='weekly_historical_data', index=False)\n",
    "        df_weekly_returns.to_excel(writer, sheet_name='weekly_returns', index=False)\n",
    "        df_cov_matrix.to_excel(writer, sheet_name='covariance_matrix', index=False)\n",
    "        df_summary_stats.to_excel(writer, sheet_name='summary_stats')\n",
    "        df_max_sharpe_ratio.to_excel(writer, sheet_name='max_sharpe_ratio', index=False)\n",
    "        df_min_variance.to_excel(writer, sheet_name='min_variance', index=False)\n",
    "        df_max_returns.to_excel(writer, sheet_name='max_returns', index=False)\n",
    "\n",
    "        summary_stats = writer.sheets['summary_stats']\n",
    "        for col in range(1, num_symbs + 1):\n",
    "            summary_stats.write(0, col, df_weekly_data.columns[col])\n",
    "            summary_stats.write_formula(1, col, f\"=AVERAGE('weekly_returns'!{excel_column_name(col+1)}2:{excel_column_name(col+1)}{data_rows+1})\")\n",
    "\n",
    "        # for max sharpe ratio\n",
    "        \n",
    "        worksheet = writer.sheets['max_sharpe_ratio']\n",
    "            \n",
    "        if optimization == None:\n",
    "            for row_num in range(1, num_symbs+1):\n",
    "                worksheet.write_formula(row_num, 1, f'{1/num_symbs}')\n",
    "        else:\n",
    "            for row_num in range(1, len(max_sha_weights)+1):\n",
    "                worksheet.write_formula(row_num, 1, f'{max_sha_weights[row_num-1]}')\n",
    "        \n",
    "        worksheet.write('D2', '')\n",
    "        worksheet.write('D3', 'Weekly Portfolio Return')\n",
    "        worksheet.write('D4', 'Annualized Portfolio Return')\n",
    "        worksheet.write('D5', 'Portfolio Variance')\n",
    "        worksheet.write('D6', 'Portfolio Standard Deviation')\n",
    "        worksheet.write('D8', 'Sharpe Ratio - Max')\n",
    "        worksheet.write('D9', 'Sum of Weights')\n",
    "\n",
    "        sum_of_weights_formula = f'=SUM(B2:B{num_symbs+1})'\n",
    "        weekly_portfolio_return_formula = '{'+f\"=SUMPRODUCT(TRANSPOSE(B2:B{num_symbs+1}),'summary_stats'!B2:{excel_column_name(num_symbs+1)}2)\"+'}'\n",
    "        portfolio_variance_formula = '{'+f\"=MMULT(MMULT(TRANSPOSE(B2:B{num_symbs+1}),'covariance_matrix'!B2:{excel_column_name(num_symbs+1)}{num_symbs+1}),B2:B{num_symbs+1})\"+'}'\n",
    "\n",
    "        worksheet.write_formula('E3', weekly_portfolio_return_formula)\n",
    "        worksheet.write_formula('E4', f'=((E3+1)^52)-1')\n",
    "        worksheet.write_formula('E5', portfolio_variance_formula)\n",
    "        worksheet.write_formula('E6', f'=SQRT(E5)')\n",
    "        worksheet.write_formula('E8', f'=E3/E6')\n",
    "        worksheet.write_formula('E9', sum_of_weights_formula)\n",
    "\n",
    "        # for min variance\n",
    "\n",
    "        worksheet = writer.sheets['min_variance']\n",
    "        \n",
    "        if optimization == None:\n",
    "            for row_num in range(1, num_symbs+1):\n",
    "                worksheet.write_formula(row_num, 1, f'{1/num_symbs}')\n",
    "        elif optimization == 'MAX RET':\n",
    "            for row_num in range(1, len(min_var_weights)+1):\n",
    "                worksheet.write_formula(row_num, 1, f'{min_var_weights[row_num-1]}')\n",
    "\n",
    "        worksheet.write('D2', '')\n",
    "        worksheet.write('D3', 'Weekly Portfolio Return')\n",
    "        worksheet.write('D4', 'Annualized Portfolio Return')\n",
    "        worksheet.write('D5', 'Portfolio Variance')\n",
    "        worksheet.write('D6', 'Portfolio Standard Deviation')\n",
    "        worksheet.write('D8', 'Min Return Expectation')\n",
    "        worksheet.write('D9', 'Sum of Weights')\n",
    "        \n",
    "        sum_of_weights_formula = f'=SUM(B2:B{num_symbs+1})'\n",
    "        portfolio_return_formula = '{'+f\"=SUMPRODUCT(TRANSPOSE(B2:B{num_symbs+1}),'summary_stats'!B2:{excel_column_name(num_symbs+1)}2)\"+'}'\n",
    "        portfolio_variance_formula = '{'+f\"=MMULT(MMULT(TRANSPOSE(B2:B{num_symbs+1}),'covariance_matrix'!B2:{excel_column_name(num_symbs+1)}{num_symbs+1}),B2:B{num_symbs+1})\"+'}'\n",
    "\n",
    "        worksheet.write_formula('E3', portfolio_return_formula)\n",
    "        worksheet.write_formula('E4', f'=((E3+1)^52)-1')\n",
    "        worksheet.write_formula('E5', portfolio_variance_formula)\n",
    "        worksheet.write_formula('E6', f'=SQRT(E5)')\n",
    "        worksheet.write_formula('E8', f\"={expected_ann_returns}\")\n",
    "        worksheet.write_formula('E9', sum_of_weights_formula)\n",
    "\n",
    "        # for max returns\n",
    "\n",
    "        worksheet = writer.sheets['max_returns']\n",
    "        if optimization == 'MAX RET':\n",
    "            for row_num in range(1, len(max_ret_weights)+1):\n",
    "                worksheet.write_formula(row_num, 1, f'{max_ret_weights[row_num-1]}')\n",
    "        elif optimization == None:\n",
    "            for row_num in range(1, num_symbs+1):\n",
    "                worksheet.write_formula(row_num, 1, f'{1/num_symbs}')\n",
    "        \n",
    "        worksheet.write('D2', '')\n",
    "        worksheet.write('D3', 'Weekly Portfolio Return')\n",
    "        worksheet.write('D4', 'Annualized Portfolio Return')\n",
    "        worksheet.write('D5', 'Portfolio Variance')\n",
    "        worksheet.write('D6', 'Portfolio Standard Deviation')\n",
    "        worksheet.write('D8', 'Max Risk (Ann Std Dev)')\n",
    "        worksheet.write('D9', 'Sum of Weights')\n",
    "        \n",
    "        sum_of_weights_formula = f'=SUM(B2:B{num_symbs+1})'\n",
    "        portfolio_return_formula = '{'+f\"=SUMPRODUCT(TRANSPOSE(B2:B{num_symbs+1}),'summary_stats'!B2:{excel_column_name(num_symbs+1)}2)\"+'}'\n",
    "        portfolio_variance_formula = '{'+f\"=MMULT(MMULT(TRANSPOSE(B2:B{num_symbs+1}),'covariance_matrix'!B2:{excel_column_name(num_symbs+1)}{num_symbs+1}),B2:B{num_symbs+1})\"+'}'\n",
    "\n",
    "        worksheet.write_formula('E3', portfolio_return_formula)\n",
    "        worksheet.write_formula('E4', f'=((E3+1)^52)-1')\n",
    "        worksheet.write_formula('E5', portfolio_variance_formula)\n",
    "        worksheet.write_formula('E6', f'=SQRT(E5)')\n",
    "        worksheet.write_formula('E8', f\"={maximum_ann_stdev}\")\n",
    "        worksheet.write_formula('E9', sum_of_weights_formula)"
   ]
  },
  {
   "cell_type": "code",
   "execution_count": null,
   "metadata": {},
   "outputs": [],
   "source": [
    "# Max Sharpe Ratio\n",
    "\n",
    "def max_sharpe_ratio(average, cov_matrix, num_symbs):\n",
    "\n",
    "    def calculate_e3(weights, average):\n",
    "        return np.dot(weights, average)\n",
    "\n",
    "    def calculate_e5(weights, cov_matrix):\n",
    "        return np.dot(np.dot(weights, cov_matrix), weights)\n",
    "\n",
    "    def calculate_e6(e5_value):\n",
    "        return np.sqrt(e5_value)\n",
    "\n",
    "    def calculate_e8(e3_value, e6_value):\n",
    "        return e3_value/e6_value\n",
    "\n",
    "    def objective_function(weights):\n",
    "        e3 = calculate_e3(weights, average)\n",
    "        e5 = calculate_e5(weights, cov_matrix)\n",
    "        e6 = calculate_e6(e5)\n",
    "        e8 = calculate_e8(e3, e6)\n",
    "        return -e8\n",
    "\n",
    "    weights = [1/num_symbs]*num_symbs\n",
    "\n",
    "    # Constraints and bounds remain the same as before\n",
    "    constraints = [{'type': 'eq', 'fun': lambda x: np.sum(x) - 1}]\n",
    "    bounds = [(0, 1)] * len(weights)\n",
    "\n",
    "    # Perform the optimization using the initial guess from before\n",
    "    opt_result = minimize(\n",
    "        objective_function,\n",
    "        weights,\n",
    "        method='SLSQP',\n",
    "        bounds=bounds,\n",
    "        constraints=constraints\n",
    "    )\n",
    "\n",
    "    new_weights_temp = list(opt_result.x)\n",
    "    new_weights = []\n",
    "    for i in new_weights_temp:\n",
    "        new_weights.append(round(i,4))\n",
    "    \n",
    "    return new_weights, opt_result"
   ]
  },
  {
   "cell_type": "code",
   "execution_count": null,
   "metadata": {},
   "outputs": [],
   "source": [
    "# Min Variance\n",
    "\n",
    "def min_variance(average, cov_matrix, num_symbs, expected_returns):\n",
    "\n",
    "    def calculate_e3(weights, average):\n",
    "        return np.dot(weights, average)\n",
    "    \n",
    "    def calculate_e4(weights, average):\n",
    "        return ((1+calculate_e3(weights, average))**52)-1\n",
    "\n",
    "    def calculate_e5(weights, cov_matrix):\n",
    "        return np.dot(np.dot(weights, cov_matrix), weights)\n",
    "\n",
    "    def objective_function(weights):\n",
    "        e5 = calculate_e5(weights, cov_matrix)\n",
    "        return e5\n",
    "\n",
    "    weights = [1/num_symbs]*num_symbs\n",
    "\n",
    "    # Constraints and bounds remain the same as before\n",
    "    constraints = (\n",
    "        {'type': 'eq', 'fun': lambda x: np.sum(x) - 1},\n",
    "        {'type': 'ineq', 'fun': lambda x: calculate_e4(x, average) - expected_returns}\n",
    "    )\n",
    "\n",
    "    bounds = [(0, 1)] * len(weights)\n",
    "\n",
    "    # Perform the optimization using the initial guess from before\n",
    "    opt_result = minimize(\n",
    "        objective_function,\n",
    "        weights,\n",
    "        method='SLSQP',\n",
    "        bounds=bounds,\n",
    "        constraints=constraints\n",
    "    )\n",
    "\n",
    "    new_weights_temp = list(opt_result.x)\n",
    "    new_weights = []\n",
    "    for i in new_weights_temp:\n",
    "        new_weights.append(round(i,4))\n",
    "    \n",
    "    return new_weights, opt_result"
   ]
  },
  {
   "cell_type": "code",
   "execution_count": null,
   "metadata": {},
   "outputs": [],
   "source": [
    "# Max Returns\n",
    "\n",
    "def max_returns(average, cov_matrix, num_symbs, maximum_ann_stdev):\n",
    "\n",
    "    def weekly_portfolio_return(weights, average):\n",
    "        return np.dot(weights, average)\n",
    "\n",
    "    def portfolio_variance(weights, cov_matrix):\n",
    "        return np.dot(np.dot(weights, cov_matrix), weights)\n",
    "    \n",
    "    def calculate_ann_stddev(weights, cov_matrix):\n",
    "        pf_var = portfolio_variance(weights, cov_matrix)\n",
    "        ann_stddev = math.sqrt(pf_var*52)\n",
    "        return ann_stddev\n",
    "\n",
    "    def objective_function(weights):\n",
    "        weekly_pf_rtn = weekly_portfolio_return(weights, average)\n",
    "        return -weekly_pf_rtn\n",
    "\n",
    "    weights = [1/num_symbs]*num_symbs\n",
    "\n",
    "    # Constraints and bounds remain the same as before\n",
    "    constraints = (\n",
    "        {'type': 'eq', 'fun': lambda x: np.sum(x) - 1},\n",
    "        {'type': 'ineq', 'fun': lambda x: maximum_ann_stdev - calculate_ann_stddev(x, cov_matrix)}\n",
    "    )\n",
    "\n",
    "    bounds = [(0, 1)] * len(weights)\n",
    "\n",
    "    # Perform the optimization using the initial guess from before\n",
    "    opt_result = minimize(\n",
    "        objective_function,\n",
    "        weights,\n",
    "        method='SLSQP',\n",
    "        bounds=bounds,\n",
    "        constraints=constraints\n",
    "    )\n",
    "\n",
    "    new_weights_temp = list(opt_result.x)\n",
    "    new_weights = []\n",
    "    for i in new_weights_temp:\n",
    "        new_weights.append(round(i,4))\n",
    "    \n",
    "    return new_weights, opt_result"
   ]
  },
  {
   "cell_type": "code",
   "execution_count": null,
   "metadata": {},
   "outputs": [],
   "source": [
    "input_filename = 'trial_excel.xlsx'\n",
    "output_filename = 'updated_'+input_filename"
   ]
  },
  {
   "cell_type": "code",
   "execution_count": null,
   "metadata": {},
   "outputs": [],
   "source": [
    "add_sheets(input_filename)"
   ]
  },
  {
   "cell_type": "code",
   "execution_count": null,
   "metadata": {},
   "outputs": [],
   "source": [
    "# Getting end_char and num_symbs\n",
    "\n",
    "wb = xl.load_workbook(output_filename)\n",
    "summary_stats_sheet = wb['summary_stats']\n",
    "first_row_values = [cell.value for cell in summary_stats_sheet[1]]\n",
    "li = [value for value in first_row_values if value is not None]\n",
    "wb.close()\n",
    "\n",
    "end_char = excel_column_name(len(li) + 1)\n",
    "num_symbs = len(li)"
   ]
  },
  {
   "cell_type": "code",
   "execution_count": null,
   "metadata": {},
   "outputs": [],
   "source": [
    "# Getting average and cov_matrix\n",
    "\n",
    "wb = xw.Book(output_filename)\n",
    "summary_stats_sheet = wb.sheets['summary_stats']\n",
    "average = summary_stats_sheet.range(f'B2:{end_char}2').value\n",
    "average = np.array(average)\n",
    "wb.close()\n",
    "\n",
    "cov_matrix = pd.read_excel(output_filename, sheet_name='covariance_matrix', index_col=0)\n",
    "cov_matrix = cov_matrix.values"
   ]
  },
  {
   "cell_type": "code",
   "execution_count": null,
   "metadata": {},
   "outputs": [],
   "source": [
    "max_sha_weights, max_sharpe_ratio = max_sharpe_ratio(average, cov_matrix, num_symbs)"
   ]
  },
  {
   "cell_type": "code",
   "execution_count": null,
   "metadata": {},
   "outputs": [],
   "source": [
    "max_sharpe_ratio.fun"
   ]
  },
  {
   "cell_type": "code",
   "execution_count": null,
   "metadata": {},
   "outputs": [],
   "source": [
    "add_sheets(output_filename, 'MAX SHA', max_sha_weights)"
   ]
  },
  {
   "cell_type": "code",
   "execution_count": null,
   "metadata": {},
   "outputs": [],
   "source": [
    "expected_annual_returns = 0.1"
   ]
  },
  {
   "cell_type": "code",
   "execution_count": null,
   "metadata": {},
   "outputs": [],
   "source": [
    "min_var_weights, min_variance = min_variance(average, cov_matrix, num_symbs, expected_annual_returns)"
   ]
  },
  {
   "cell_type": "code",
   "execution_count": null,
   "metadata": {},
   "outputs": [],
   "source": [
    "min_variance.fun"
   ]
  },
  {
   "cell_type": "code",
   "execution_count": null,
   "metadata": {},
   "outputs": [],
   "source": [
    "add_sheets('updated_'+output_filename, 'MIN VAR', max_sha_weights, min_var_weights, None, expected_annual_returns)"
   ]
  },
  {
   "cell_type": "code",
   "execution_count": null,
   "metadata": {},
   "outputs": [],
   "source": [
    "max_annnual_std_dev = 0.4"
   ]
  },
  {
   "cell_type": "code",
   "execution_count": null,
   "metadata": {},
   "outputs": [],
   "source": [
    "average, average.shape"
   ]
  },
  {
   "cell_type": "code",
   "execution_count": null,
   "metadata": {},
   "outputs": [],
   "source": [
    "cov_matrix, cov_matrix.shape"
   ]
  },
  {
   "cell_type": "code",
   "execution_count": null,
   "metadata": {},
   "outputs": [],
   "source": [
    "num_symbs"
   ]
  },
  {
   "cell_type": "code",
   "execution_count": null,
   "metadata": {},
   "outputs": [],
   "source": [
    "max_annnual_std_dev"
   ]
  },
  {
   "cell_type": "code",
   "execution_count": null,
   "metadata": {},
   "outputs": [],
   "source": [
    "max_ret_weights, max_returns = max_returns(average, cov_matrix, num_symbs, max_annnual_std_dev)"
   ]
  },
  {
   "cell_type": "code",
   "execution_count": null,
   "metadata": {},
   "outputs": [],
   "source": [
    "((1+(-max_returns.fun))**52)-1"
   ]
  },
  {
   "cell_type": "code",
   "execution_count": null,
   "metadata": {},
   "outputs": [],
   "source": [
    "add_sheets('updated_updated_'+output_filename, 'MAX RET', max_sha_weights, min_var_weights, max_ret_weights, expected_annual_returns, max_annnual_std_dev)"
   ]
  },
  {
   "cell_type": "code",
   "execution_count": null,
   "metadata": {},
   "outputs": [],
   "source": [
    "os.remove('updated_'+input_filename)\n",
    "os.remove('updated_'+output_filename)\n",
    "os.remove('updated_updated_'+output_filename)\n",
    "os.rename('updated_updated_updated_'+output_filename, input_filename[:-5]+'_optimized.xlsx')"
   ]
  },
  {
   "cell_type": "code",
   "execution_count": null,
   "metadata": {},
   "outputs": [],
   "source": [
    "excel_file_path = input_filename[:-5]+'_optimized.xlsx'\n",
    "wb = xl.load_workbook(excel_file_path)\n",
    "\n",
    "def delete_cells(sheet, row, start_col, end_col):\n",
    "    for col in range(start_col, end_col + 1):\n",
    "        cell_to_delete = f\"{xl.utils.get_column_letter(col)}{row}\"\n",
    "        sheet[cell_to_delete].value = None\n",
    "\n",
    "opt_sheets = [wb['max_sharpe_ratio'], wb['min_variance'], wb['max_returns']]\n",
    "for sheet in opt_sheets:\n",
    "    delete_cells(sheet, 1, 3, 5)\n",
    "\n",
    "for sheet_name in wb.sheetnames:\n",
    "    sheet = wb[sheet_name]\n",
    "    for col in sheet.columns:\n",
    "        column = col[0].column_letter\n",
    "        if sheet in opt_sheets:\n",
    "            sheet.column_dimensions[column].width = 23.33\n",
    "        else:\n",
    "            sheet.column_dimensions[column].width = 20\n",
    "\n",
    "wb['covariance_matrix']['A1'].value = None\n",
    "\n",
    "wb.save(excel_file_path)"
   ]
  }
 ],
 "metadata": {
  "kernelspec": {
   "display_name": "Python 3",
   "language": "python",
   "name": "python3"
  },
  "language_info": {
   "codemirror_mode": {
    "name": "ipython",
    "version": 3
   },
   "file_extension": ".py",
   "mimetype": "text/x-python",
   "name": "python",
   "nbconvert_exporter": "python",
   "pygments_lexer": "ipython3",
   "version": "3.10.11"
  }
 },
 "nbformat": 4,
 "nbformat_minor": 2
}
