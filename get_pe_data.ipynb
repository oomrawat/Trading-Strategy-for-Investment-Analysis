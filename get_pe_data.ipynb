{
 "cells": [
  {
   "cell_type": "code",
   "execution_count": null,
   "metadata": {},
   "outputs": [],
   "source": [
    "import pandas as pd\n",
    "import time\n",
    "\n",
    "stock_data = pd.read_csv('Final Stock Data.csv', index_col='Date')\n",
    "stock_data.index = pd.to_datetime(stock_data.index)\n",
    "stock_data"
   ]
  },
  {
   "cell_type": "code",
   "execution_count": null,
   "metadata": {},
   "outputs": [],
   "source": [
    "stock_symbols = list(stock_data.columns)\n",
    "\n",
    "ss = []\n",
    "for s in stock_symbols:\n",
    "    if s[:-3] == 'GATI':\n",
    "        ss.append('ACLGATI')\n",
    "    else:\n",
    "        ss.append(s[:-3])\n",
    "\n",
    "stock_symbols = ss\n",
    "\n",
    "len(stock_symbols), stock_symbols"
   ]
  },
  {
   "cell_type": "code",
   "execution_count": null,
   "metadata": {},
   "outputs": [],
   "source": [
    "from selenium import webdriver\n",
    "from selenium.webdriver.chrome.service import Service\n",
    "from selenium.webdriver.common.by import By\n",
    "import json\n",
    "\n",
    "chrome_options = webdriver.ChromeOptions()\n",
    "chrome_options.add_argument(\"--headless\")\n",
    "chrome_options.add_argument(\"--no-sandbox\")\n",
    "chrome_options.add_argument(\"--disable-dev-shm-usage\")\n",
    "\n",
    "driver = webdriver.Chrome(options=chrome_options)\n",
    "\n",
    "\n",
    "# XPath templates for PE Ratios by year\n",
    "xpath_templates = {\n",
    "    \"2023\": '/html/body/div[1]/div[2]/div/div[3]/div[2]/div/div[7]/div/div/div[2]/div/table/tbody/tr[2]/td[1]',\n",
    "    \"2022\": '/html/body/div[1]/div[2]/div/div[3]/div[2]/div/div[7]/div/div/div[2]/div/table/tbody/tr[2]/td[2]',\n",
    "    \"2021\": '/html/body/div[1]/div[2]/div/div[3]/div[2]/div/div[7]/div/div/div[2]/div/table/tbody/tr[2]/td[3]',\n",
    "    \"2020\": '/html/body/div[1]/div[2]/div/div[3]/div[2]/div/div[7]/div/div/div[2]/div/table/tbody/tr[2]/td[4]',\n",
    "    \"2019\": '/html/body/div[1]/div[2]/div/div[3]/div[2]/div/div[7]/div/div/div[2]/div/table/tbody/tr[2]/td[5]',\n",
    "    \"2018\": '/html/body/div[1]/div[2]/div/div[3]/div[2]/div/div[7]/div/div/div[2]/div/table/tbody/tr[2]/td[6]',\n",
    "}\n",
    "\n",
    "pe_ratios = {}\n",
    "count = 0\n",
    "for symbol in stock_symbols:\n",
    "    print(symbol)\n",
    "    url = f\"https://www.topstockresearch.com/rt/Financial/{symbol}/PriceToEarningRatio\"\n",
    "    driver.get(url)\n",
    "    time.sleep(2)\n",
    "    \n",
    "    pe_ratios[symbol] = {}\n",
    "    for year, xpath in xpath_templates.items():\n",
    "        time.sleep(1)\n",
    "        try:\n",
    "            element = driver.find_element(By.XPATH, xpath).text\n",
    "            if element:\n",
    "                pe_ratios[symbol][year] = element\n",
    "            else:\n",
    "                pe_ratios[symbol][year] = \"N/A\"\n",
    "        except:\n",
    "            pe_ratios[symbol][year] = \"N/A\"\n",
    "    print(count)\n",
    "    count += 1\n",
    "\n",
    "driver.quit()\n"
   ]
  },
  {
   "cell_type": "code",
   "execution_count": null,
   "metadata": {},
   "outputs": [],
   "source": [
    "pe_ratios"
   ]
  },
  {
   "cell_type": "code",
   "execution_count": null,
   "metadata": {},
   "outputs": [],
   "source": [
    "pe_ratios_float = {}\n",
    "\n",
    "for symbol, year_wise_dict in pe_ratios.items():\n",
    "    pe_ratios_float[symbol] = {}\n",
    "    for year, ratio in year_wise_dict.items():\n",
    "        if ratio == 'N/A':\n",
    "            pe_ratios_float[symbol][year] = 0.00\n",
    "        else:\n",
    "            pe_ratios_float[symbol][year] = float(ratio)"
   ]
  },
  {
   "cell_type": "code",
   "execution_count": null,
   "metadata": {},
   "outputs": [],
   "source": [
    "pe_ratios_float"
   ]
  },
  {
   "cell_type": "code",
   "execution_count": null,
   "metadata": {},
   "outputs": [],
   "source": [
    "# Save data to JSON\n",
    "with open('pe_ratios.json', 'w') as file:\n",
    "    json.dump(pe_ratios_float, file)"
   ]
  }
 ],
 "metadata": {
  "kernelspec": {
   "display_name": "Python 3",
   "language": "python",
   "name": "python3"
  },
  "language_info": {
   "codemirror_mode": {
    "name": "ipython",
    "version": 3
   },
   "file_extension": ".py",
   "mimetype": "text/x-python",
   "name": "python",
   "nbconvert_exporter": "python",
   "pygments_lexer": "ipython3",
   "version": "3.10.11"
  }
 },
 "nbformat": 4,
 "nbformat_minor": 2
}
