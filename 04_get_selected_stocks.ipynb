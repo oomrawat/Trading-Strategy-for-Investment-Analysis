{
 "cells": [
  {
   "cell_type": "code",
   "execution_count": 1,
   "metadata": {},
   "outputs": [],
   "source": [
    "import os\n",
    "import pandas as pd\n",
    "import openpyxl as xl\n",
    "import json"
   ]
  },
  {
   "cell_type": "code",
   "execution_count": 2,
   "metadata": {},
   "outputs": [],
   "source": [
    "def list_all_files(base_path):\n",
    "    all_files = []\n",
    "    for root, dirs, files in os.walk(base_path):\n",
    "        for file in files:\n",
    "            all_files.append(os.path.join(root, file))\n",
    "    return all_files"
   ]
  },
  {
   "cell_type": "code",
   "execution_count": 3,
   "metadata": {},
   "outputs": [
    {
     "data": {
      "text/plain": [
       "19"
      ]
     },
     "execution_count": 3,
     "metadata": {},
     "output_type": "execute_result"
    }
   ],
   "source": [
    "path = '/Users/oomrawat/Desktop/04_FSP/FINC308 - Investment Analysis/Group Project/Industry Wise Data'\n",
    "\n",
    "all_files_list = list_all_files(path)\n",
    "all_files_w_year = []\n",
    "\n",
    "for file in all_files_list:\n",
    "    if file[-8:] != 'DS_Store':\n",
    "        year_month = os.path.dirname(file)[-7:]\n",
    "        if year_month[0] == '/':\n",
    "            year_month = year_month[1:]\n",
    "        all_files_w_year.append((file,year_month))\n",
    "\n",
    "files_to_consider = []\n",
    "for file in all_files_w_year:\n",
    "    year_month = file[1]\n",
    "    file_path = file[0]\n",
    "    if file_path[-15:] == '_optimized.xlsx':\n",
    "        files_to_consider.append((file_path, year_month))\n",
    "    \n",
    "len(files_to_consider)"
   ]
  },
  {
   "cell_type": "code",
   "execution_count": 4,
   "metadata": {},
   "outputs": [],
   "source": [
    "stocks_selected_no_zero_weightage = {}\n",
    "stocks_selected_top_2_overall_highest_weightage = {}\n",
    "intersection_of_both = {}"
   ]
  },
  {
   "cell_type": "code",
   "execution_count": 5,
   "metadata": {},
   "outputs": [],
   "source": [
    "years = [('2023','12')]"
   ]
  },
  {
   "cell_type": "code",
   "execution_count": 6,
   "metadata": {},
   "outputs": [],
   "source": [
    "for year,month in years:\n",
    "    year_month = year+'_'+month\n",
    "    stocks_selected_no_zero_weightage[year_month] = {}\n",
    "    stocks_selected_top_2_overall_highest_weightage[year_month] = {}\n",
    "    intersection_of_both[year_month] = {}"
   ]
  },
  {
   "cell_type": "code",
   "execution_count": 7,
   "metadata": {},
   "outputs": [],
   "source": [
    "for file_path, year in files_to_consider:\n",
    "    \n",
    "    industry = os.path.basename(file_path)[:-15]\n",
    "\n",
    "    wb = xl.load_workbook(file_path)\n",
    "\n",
    "    ws = wb['max_sharpe_ratio']\n",
    "    symbols = [cell.value for cell in ws['A'] if cell.value is not None][1:]\n",
    "\n",
    "    max_shr = [cell.value[1:] for cell in ws['B'] if cell.value is not None][1:]\n",
    "    max_shr = [float(val) for val in max_shr]\n",
    "\n",
    "    ws = wb['min_variance']\n",
    "    min_var = [cell.value[1:] for cell in ws['B'] if cell.value is not None][1:]\n",
    "    min_var = [float(val) for val in min_var]\n",
    "\n",
    "    ws = wb['max_returns']\n",
    "    max_ret = [cell.value[1:] for cell in ws['B'] if cell.value is not None][1:]\n",
    "    max_ret = [float(val) for val in max_ret]\n",
    "\n",
    "    df = pd.DataFrame(columns=['Symbols', 'Weights_Shr', 'Weights_Var', 'Weights_Ret'])\n",
    "    df['Symbols'] = symbols\n",
    "    df['Weights_Shr'] = max_shr\n",
    "    df['Weights_Var'] = min_var\n",
    "    df['Weights_Ret'] = max_ret\n",
    "\n",
    "    df['Total Weight'] = df[['Weights_Shr', 'Weights_Var', 'Weights_Ret']].sum(axis=1)\n",
    "\n",
    "    df_sorted = df.sort_values(by='Total Weight', ascending=False)\n",
    "\n",
    "    stocks_selected_top_2_overall_highest_weightage[year][industry] = list(df_sorted['Symbols'].head(1))\n",
    "\n",
    "    df_nonzero = df[(df['Weights_Shr'] != 0) & (df['Weights_Var'] != 0) & (df['Weights_Ret'] != 0)]\n",
    "\n",
    "    df_nonzero = df_nonzero.sort_values(by='Total Weight', ascending=False)\n",
    "\n",
    "    stocks_selected_no_zero_weightage[year][industry] = list(df_nonzero['Symbols'].head(1))"
   ]
  },
  {
   "cell_type": "code",
   "execution_count": 8,
   "metadata": {},
   "outputs": [
    {
     "data": {
      "text/plain": [
       "(['Financial Services',\n",
       "  'Capital Goods',\n",
       "  'Construction Materials',\n",
       "  'Healthcare',\n",
       "  'Chemicals',\n",
       "  'Information Technology',\n",
       "  'Power',\n",
       "  'Metals & Mining',\n",
       "  'Services',\n",
       "  'Oil Gas & Consumable Fuels',\n",
       "  'Fast Moving Consumer Goods',\n",
       "  'Consumer Services',\n",
       "  'Construction',\n",
       "  'Textiles',\n",
       "  'Automobile and Auto Components',\n",
       "  'Consumer Durables',\n",
       "  'Realty',\n",
       "  'Telecommunication',\n",
       "  'Media Entertainment & Publication'],\n",
       " 19)"
      ]
     },
     "execution_count": 8,
     "metadata": {},
     "output_type": "execute_result"
    }
   ],
   "source": [
    "industry_data = pd.read_csv('ind_niftytotalmarket_list.csv')\n",
    "industries_list = list(industry_data['Industry'].unique())\n",
    "industries_list.remove('Diversified')\n",
    "industries_list.remove('Utilities')\n",
    "industries_list.remove('Forest Materials')\n",
    "\n",
    "industries_list, len(industries_list)"
   ]
  },
  {
   "cell_type": "code",
   "execution_count": 9,
   "metadata": {},
   "outputs": [
    {
     "name": "stdout",
     "output_type": "stream",
     "text": [
      "2023_12 Financial Services\n",
      "2023_12 Capital Goods\n",
      "2023_12 Construction Materials\n",
      "2023_12 Healthcare\n",
      "2023_12 Chemicals\n",
      "2023_12 Information Technology\n",
      "2023_12 Power\n",
      "2023_12 Metals & Mining\n",
      "2023_12 Services\n",
      "2023_12 Oil Gas & Consumable Fuels\n",
      "2023_12 Fast Moving Consumer Goods\n",
      "2023_12 Consumer Services\n",
      "2023_12 Construction\n",
      "2023_12 Textiles\n",
      "2023_12 Automobile and Auto Components\n",
      "2023_12 Consumer Durables\n",
      "2023_12 Realty\n",
      "2023_12 Telecommunication\n",
      "2023_12 Media Entertainment & Publication\n"
     ]
    }
   ],
   "source": [
    "for year, month in years:\n",
    "    year_month = year+'_'+month\n",
    "    for industry in industries_list:\n",
    "        print(year_month,industry)\n",
    "        try:\n",
    "            list1 = stocks_selected_no_zero_weightage[year_month][industry]\n",
    "            list2 = stocks_selected_top_2_overall_highest_weightage[year_month][industry]\n",
    "            intersection_set = set(list1).intersection(list2)\n",
    "            intersection_list = list(intersection_set)\n",
    "            intersection_of_both[year_month][industry] = intersection_list\n",
    "        except:\n",
    "            intersection_of_both[year_month][industry] = []"
   ]
  },
  {
   "cell_type": "code",
   "execution_count": 10,
   "metadata": {},
   "outputs": [
    {
     "name": "stdout",
     "output_type": "stream",
     "text": [
      "19\n",
      "#############\n",
      "19\n",
      "#############\n",
      "19\n"
     ]
    }
   ],
   "source": [
    "# sum_no_zero_weightage = 0  \n",
    "for k1,v1 in stocks_selected_no_zero_weightage.items():\n",
    "    sum_no_zero_weightage = 0  \n",
    "    for k2,v2 in v1.items():\n",
    "        sum_no_zero_weightage += len(v2)\n",
    "    print(sum_no_zero_weightage)\n",
    "\n",
    "print('#############')\n",
    "\n",
    "# sum_2_overall_highest_weightage = 0  \n",
    "for k1,v1 in stocks_selected_top_2_overall_highest_weightage.items():\n",
    "    sum_2_overall_highest_weightage = 0  \n",
    "    for k2,v2 in v1.items():\n",
    "        sum_2_overall_highest_weightage += len(v2)\n",
    "    print(sum_2_overall_highest_weightage)\n",
    "\n",
    "print('#############')\n",
    "\n",
    "# sum_intersection_of_both = 0  \n",
    "for k1,v1 in intersection_of_both.items():\n",
    "    sum_intersection_of_both = 0  \n",
    "    for k2,v2 in v1.items():\n",
    "        sum_intersection_of_both += len(v2)\n",
    "    print(sum_intersection_of_both)\n",
    "\n",
    "# sum_no_zero_weightage, sum_2_overall_highest_weightage, intersection_of_both"
   ]
  },
  {
   "cell_type": "code",
   "execution_count": 11,
   "metadata": {},
   "outputs": [],
   "source": [
    "json_file_path = 'industryWise_monthWise_stocks_no_zero_weightage.json'\n",
    "\n",
    "with open(json_file_path, 'w') as json_file:\n",
    "    json.dump(stocks_selected_no_zero_weightage, json_file)\n",
    "\n",
    "json_file_path = 'industryWise_monthWise_stocks_overall_highest_weightage.json'\n",
    "\n",
    "with open(json_file_path, 'w') as json_file:\n",
    "    json.dump(stocks_selected_top_2_overall_highest_weightage, json_file)\n",
    "\n",
    "json_file_path = 'industryWise_monthWise_stocks_intersection_of_both.json'\n",
    "\n",
    "with open(json_file_path, 'w') as json_file:\n",
    "    json.dump(intersection_of_both, json_file)"
   ]
  }
 ],
 "metadata": {
  "kernelspec": {
   "display_name": "Python 3",
   "language": "python",
   "name": "python3"
  },
  "language_info": {
   "codemirror_mode": {
    "name": "ipython",
    "version": 3
   },
   "file_extension": ".py",
   "mimetype": "text/x-python",
   "name": "python",
   "nbconvert_exporter": "python",
   "pygments_lexer": "ipython3",
   "version": "3.10.11"
  }
 },
 "nbformat": 4,
 "nbformat_minor": 2
}
